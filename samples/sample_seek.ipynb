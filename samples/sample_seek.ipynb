{
 "cells": [
  {
   "cell_type": "code",
   "execution_count": null,
   "metadata": {},
   "outputs": [],
   "source": [
    "class StopExecution(Exception):\n",
    "    def _render_traceback_(self):\n",
    "        return []"
   ]
  },
  {
   "cell_type": "code",
   "execution_count": null,
   "metadata": {},
   "outputs": [],
   "source": [
    "# Starting from Python 3.8 DLL search policy has changed.\n",
    "# We need to add path to CUDA DLLs explicitly.\n",
    "import os\n",
    "\n",
    "if os.name == \"nt\":\n",
    "    # Add CUDA_PATH env variable\n",
    "    cuda_path = os.environ[\"CUDA_PATH\"]\n",
    "    if cuda_path:\n",
    "        os.add_dll_directory(os.path.join(cuda_path, \"bin\"))\n",
    "    else:\n",
    "        raise StopExecution"
   ]
  },
  {
   "cell_type": "code",
   "execution_count": null,
   "metadata": {},
   "outputs": [],
   "source": [
    "from PIL import Image\n",
    "from IPython.display import display\n",
    "from io import BytesIO\n",
    "\n",
    "import python_vali as vali\n",
    "import numpy as np\n",
    "\n",
    "from ipywidgets import interact\n",
    "import ipywidgets as widgets\n",
    "import tempfile"
   ]
  },
  {
   "cell_type": "code",
   "execution_count": null,
   "metadata": {},
   "outputs": [],
   "source": [
    "uploader = widgets.FileUpload(\n",
    "    accept=\".mp4,.avi,.mkv\", description=\"Upload video\")\n",
    "display(uploader)"
   ]
  },
  {
   "cell_type": "code",
   "execution_count": null,
   "metadata": {},
   "outputs": [],
   "source": [
    "def create_temp_file() -> str:\n",
    "    \"\"\"\n",
    "    Create temporary file and write uploader widget output there.\n",
    "    Temp file will not be auto-deleted.\n",
    "    \"\"\"\n",
    "    with tempfile.NamedTemporaryFile(delete=False) as tmp:\n",
    "        tmp.write(uploader.value[0][\"content\"].tobytes())\n",
    "        return tmp.name"
   ]
  },
  {
   "cell_type": "code",
   "execution_count": null,
   "metadata": {},
   "outputs": [],
   "source": [
    "tmp_file = create_temp_file()\n",
    "\n",
    "# GPU-accelerated decoder\n",
    "pyDec = vali.PyDecoder(\n",
    "    input=tmp_file,\n",
    "    opts={},\n",
    "    gpu_id=0)\n",
    "\n",
    "# GPU-accelerated converter\n",
    "pyCvt = vali.PySurfaceConverter(\n",
    "    pyDec.Format,\n",
    "    vali.PixelFormat.RGB,\n",
    "    gpu_id=0)\n",
    "\n",
    "# GPU-accelerated JPEG encoder.\n",
    "# It's faster to encode Surface on GPU and show JPEG in widget.\n",
    "pyJpeg = vali.PyNvJpegEncoder(gpu_id=0)\n",
    "pyJpegEncCtx = pyJpeg.Context(\n",
    "    compression=100,\n",
    "    pixel_format=vali.PixelFormat.RGB)"
   ]
  },
  {
   "cell_type": "code",
   "execution_count": null,
   "metadata": {},
   "outputs": [],
   "source": [
    "@interact(seek_frame=widgets.IntSlider(\n",
    "    min=0, max=pyDec.NumFrames - 1, step=1, value=0))\n",
    "def decode_show_video_frame(seek_frame: int) -> None:\n",
    "    \"\"\"\n",
    "    Decodes and shows single video frame by number.\n",
    "\n",
    "    Paramenters\n",
    "    -----------\n",
    "\n",
    "    seek_frame: what frame to show\n",
    "    \"\"\"\n",
    "    # Raw decoded Surface\n",
    "    surf_src = vali.Surface.Make(\n",
    "        format=pyDec.Format,\n",
    "        width=pyDec.Width,\n",
    "        height=pyDec.Height,\n",
    "        gpu_id=0)\n",
    "\n",
    "    # Raw Surface, converted to RGB\n",
    "    surf_dst = vali.Surface.Make(\n",
    "        format=vali.PixelFormat.RGB,\n",
    "        width=pyDec.Width,\n",
    "        height=pyDec.Height,\n",
    "        gpu_id=0)\n",
    "\n",
    "    seek_ctx = vali.SeekContext(seek_frame)\n",
    "\n",
    "    # Decode single Surface\n",
    "    success, details = pyDec.DecodeSingleSurface(surf_src, seek_ctx)\n",
    "    if not success:\n",
    "        print(details)\n",
    "        raise StopExecution\n",
    "\n",
    "    # Convert tot RGB\n",
    "    success, details = pyCvt.Run(surf_src, surf_dst)\n",
    "    if not success:\n",
    "        print(details)\n",
    "        raise StopExecution\n",
    "\n",
    "    # Compress to JPEG\n",
    "    buffers, details = pyJpeg.Run(pyJpegEncCtx, [surf_dst])\n",
    "    if len(buffers) != 1:\n",
    "        print(details)\n",
    "        raise StopExecution\n",
    "\n",
    "    # Display in notebook.\n",
    "    # The same picture is shown twice for some reason.\n",
    "    jpeg_bytes = BytesIO(np.ndarray.tobytes(buffers[0]))\n",
    "    display(Image.open(jpeg_bytes), display_id=\"decoded_frame\")"
   ]
  },
  {
   "cell_type": "code",
   "execution_count": null,
   "metadata": {},
   "outputs": [],
   "source": [
    "os.remove(tmp_file)"
   ]
  }
 ],
 "metadata": {
  "language_info": {
   "name": "python"
  }
 },
 "nbformat": 4,
 "nbformat_minor": 2
}
