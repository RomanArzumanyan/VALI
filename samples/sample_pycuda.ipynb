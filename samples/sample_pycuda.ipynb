{
 "cells": [
  {
   "cell_type": "markdown",
   "id": "99e3bff2",
   "metadata": {},
   "source": [
    "This notebook shows how to interact directly with raw memory on device using pycuda\n",
    "usefull fo GPU accelerated libraries that do not support dlpack interface (e.g OpenGL)"
   ]
  },
  {
   "cell_type": "code",
   "execution_count": null,
   "id": "98adc37f-8aee-47f3-88da-7294ee9d1fec",
   "metadata": {},
   "outputs": [],
   "source": [
    "from PIL import Image\n",
    "from IPython.display import display\n",
    "\n",
    "import python_vali as vali\n",
    "import numpy as np"
   ]
  },
  {
   "cell_type": "code",
   "execution_count": null,
   "id": "d67943a4-cfd9-4ba9-b74d-bd757c8f632b",
   "metadata": {},
   "outputs": [],
   "source": [
    "url = \"../tests/data/test.mp4\""
   ]
  },
  {
   "cell_type": "code",
   "execution_count": null,
   "id": "846a2789-652a-422d-9ba1-95122f4e4e40",
   "metadata": {},
   "outputs": [],
   "source": [
    "try:\n",
    "    import pycuda\n",
    "    import pycuda.autoinit\n",
    "except:\n",
    "    print(\"Pycuda is required to run this sample\")"
   ]
  },
  {
   "cell_type": "code",
   "execution_count": null,
   "id": "ca25b19e-f396-48cf-8404-bda9bacb0e6b",
   "metadata": {},
   "outputs": [],
   "source": [
    "# download and display luma plane from nv12 decoded video frame\n",
    "# GPU-accelerated decoder\n",
    "pyDec = vali.PyDecoder(\n",
    "    url,\n",
    "    {},\n",
    "    gpu_id=0)\n",
    "\n",
    "# Example assumes pixel format is NV12\n",
    "assert (pyDec.Format == vali.PixelFormat.NV12)\n",
    "\n",
    "# Raw Surface, NV12 format\n",
    "surf_src = vali.Surface.Make(\n",
    "    format=pyDec.Format,\n",
    "    width=pyDec.Width,\n",
    "    height=pyDec.Height,\n",
    "    gpu_id=0)\n",
    "\n",
    "# Numpy buffer for collecting Y part of NV12 surface\n",
    "y_buffer = np.ndarray(dtype=np.uint8, shape=(pyDec.Width*pyDec.Height))\n",
    "\n",
    "for _ in range(10):\n",
    "    success, details = pyDec.DecodeSingleSurface(surf_src)\n",
    "    if success:\n",
    "        # download only luma plane and display it in notebook\n",
    "        device_to_host = pycuda.driver.Memcpy2D()\n",
    "        device_to_host.set_src_device(surf_src.Planes[0].GpuMem)\n",
    "        device_to_host.set_dst_host(y_buffer)\n",
    "        device_to_host.width_in_bytes = surf_src.Planes[0].Width\n",
    "        device_to_host.src_pitch = surf_src.Planes[0].Pitch\n",
    "        device_to_host.dst_pitch = surf_src.Planes[0].Width\n",
    "        # luma plane is 2/3 of nv12 image. could use surf_src.Height()\n",
    "        device_to_host.src_height = surf_src.Planes[0].Height*2//3\n",
    "        device_to_host.height = surf_src.Planes[0].Height*2//3\n",
    "        device_to_host(aligned=True)\n",
    "\n",
    "        y_plane = np.reshape(y_buffer, (pyDec.Height, pyDec.Width))\n",
    "        # Display in notebook\n",
    "        display(Image.fromarray(y_plane, mode=\"L\"))"
   ]
  },
  {
   "cell_type": "markdown",
   "id": "9aaa894d",
   "metadata": {},
   "source": [
    "More advanced example that uses CUDA 2D memcopy to crop Surface from\n",
    "HW-accelerated decoder."
   ]
  },
  {
   "cell_type": "code",
   "execution_count": null,
   "id": "55104ea4-a77c-440d-8600-9a5af6e8762f",
   "metadata": {},
   "outputs": [],
   "source": [
    "pyDec = vali.PyDecoder(\n",
    "    url,\n",
    "    {},\n",
    "    gpu_id=0)\n",
    "\n",
    "# Example assumes pixel format is NV12\n",
    "assert (pyDec.Format == vali.PixelFormat.NV12)\n",
    "\n",
    "# Raw Surface, NV12 format\n",
    "surf_src = vali.Surface.Make(\n",
    "    format=pyDec.Format,\n",
    "    width=pyDec.Width,\n",
    "    height=pyDec.Height,\n",
    "    gpu_id=0)\n",
    "\n",
    "# Numpy buffer for collecting cropped Y part of NV12 surface\n",
    "w = 256\n",
    "h = 256\n",
    "top = 76\n",
    "left = 128\n",
    "y_buffer = np.ndarray(dtype=np.uint8, shape=(w*h))\n",
    "\n",
    "for _ in range(10):\n",
    "    success, details = pyDec.DecodeSingleSurface(surf_src)\n",
    "    if success:\n",
    "        # download cropped luma plane and display it in notebook\n",
    "        device_to_host = pycuda.driver.Memcpy2D()\n",
    "        device_to_host.set_src_device(surf_src.Planes[0].GpuMem +\n",
    "                                      top*surf_src.Planes[0].Pitch +\n",
    "                                      left)\n",
    "        device_to_host.set_dst_host(y_buffer)\n",
    "        device_to_host.width_in_bytes = w\n",
    "        device_to_host.src_pitch = surf_src.Planes[0].Pitch\n",
    "        device_to_host.dst_pitch = w\n",
    "        device_to_host.src_height = h\n",
    "        device_to_host.height = h\n",
    "        device_to_host(aligned=True)\n",
    "\n",
    "        y_plane = np.reshape(y_buffer, (w, h))\n",
    "        # Display in notebook\n",
    "        display(Image.fromarray(y_plane, mode=\"L\"))"
   ]
  }
 ],
 "metadata": {
  "kernelspec": {
   "display_name": "Python 3",
   "language": "python",
   "name": "python3"
  },
  "language_info": {
   "codemirror_mode": {
    "name": "ipython",
    "version": 3
   },
   "file_extension": ".py",
   "mimetype": "text/x-python",
   "name": "python",
   "nbconvert_exporter": "python",
   "pygments_lexer": "ipython3",
   "version": "3.10.12"
  }
 },
 "nbformat": 4,
 "nbformat_minor": 5
}
