{
 "cells": [
  {
   "cell_type": "code",
   "execution_count": 1,
   "metadata": {},
   "outputs": [],
   "source": [
    "import python_vali as vali\n",
    "import numpy as np\n",
    "import av"
   ]
  },
  {
   "cell_type": "code",
   "execution_count": 2,
   "metadata": {},
   "outputs": [],
   "source": [
    "input = \"../tests/data/test.mp4\"\n",
    "output = 'output.mp4'\n",
    "\n",
    "target_w = 640\n",
    "target_h = 360"
   ]
  },
  {
   "cell_type": "code",
   "execution_count": 3,
   "metadata": {},
   "outputs": [],
   "source": [
    "# GPU-accelerated decoder\n",
    "pyDec = vali.PyDecoder(\n",
    "    input,\n",
    "    {},\n",
    "    gpu_id=0)\n",
    "\n",
    "# GPU-accelerated resizer\n",
    "pyRes = vali.PySurfaceResizer(pyDec.Format, gpu_id=0)\n",
    "\n",
    "# GPU-accelerated encoder\n",
    "nvEnc = vali.PyNvEncoder(\n",
    "    {\n",
    "        \"preset\": \"P4\",\n",
    "        \"codec\": \"h264\",\n",
    "        \"s\": str(target_w) + 'x' + str(target_h),\n",
    "        \"bitrate\": \"1M\",\n",
    "        \"fps\": f\"{pyDec.Framerate}\",\n",
    "    },\n",
    "    gpu_id=0\n",
    ")\n",
    "\n",
    "# Muxer\n",
    "dstFile = av.open(output, 'w')\n",
    "out_stream = dstFile.add_stream('h264', rate=int(pyDec.Framerate))\n",
    "out_stream.width = target_w\n",
    "out_stream.height = target_h"
   ]
  },
  {
   "cell_type": "code",
   "execution_count": 4,
   "metadata": {},
   "outputs": [],
   "source": [
    "def make_packet(\n",
    "        video_packet: np.ndarray,\n",
    "        pkt_data: vali.PacketData,\n",
    "        out_stream: av.VideoStream) -> av.Packet:\n",
    "\n",
    "    pkt = av.packet.Packet(bytearray(video_packet))\n",
    "    pkt.stream = out_stream\n",
    "    pkt.pts = pkt_data.pts\n",
    "    pkt.dts = pkt_data.dts\n",
    "\n",
    "    return pkt"
   ]
  },
  {
   "cell_type": "code",
   "execution_count": null,
   "metadata": {},
   "outputs": [
    {
     "name": "stdout",
     "output_type": "stream",
     "text": [
      "TaskExecInfo.END_OF_STREAM\n"
     ]
    }
   ],
   "source": [
    "# Decoded Surface\n",
    "surf_src = vali.Surface.Make(\n",
    "    format=pyDec.Format,\n",
    "    width=pyDec.Width,\n",
    "    height=pyDec.Height,\n",
    "    gpu_id=0)\n",
    "\n",
    "# Resized Surface\n",
    "surf_dst = vali.Surface.Make(\n",
    "    format=pyDec.Format,\n",
    "    width=target_w,\n",
    "    height=target_h,\n",
    "    gpu_id=0\n",
    ")\n",
    "\n",
    "# Numpy array which contains encoded packet\n",
    "packet = np.ndarray(\n",
    "    dtype=np.uint8,\n",
    "    shape=())\n",
    "\n",
    "pkt_data = vali.PacketData()\n",
    "\n",
    "while True:\n",
    "    # Decode single Surface\n",
    "    success, details = pyDec.DecodeSingleSurface(surf_src, pkt_data)\n",
    "    if not success:\n",
    "        print(details)\n",
    "        break\n",
    "\n",
    "    # Resize\n",
    "    success, details = pyRes.Run(surf_src, surf_dst)\n",
    "    if not success:\n",
    "        print(details)\n",
    "        break\n",
    "\n",
    "    # Encode. If there's a compressed packet, write to file\n",
    "    got_pkt = nvEnc.EncodeSingleSurface(surf_dst, packet)\n",
    "    if got_pkt:\n",
    "        av_pkt = make_packet(packet, pkt_data, out_stream)\n",
    "        dstFile.mux(av_pkt)\n",
    "\n",
    "# Encoder is async, so we need to flush it in the end\n",
    "while True:\n",
    "    got_pkt = nvEnc.FlushSinglePacket(packet)\n",
    "    if got_pkt:\n",
    "        av_pkt = make_packet(packet, pkt_data, out_stream)\n",
    "        dstFile.mux(av_pkt)\n",
    "    else:\n",
    "        break\n",
    "\n",
    "# Finish pending operations on file and close it\n",
    "dstFile.close()"
   ]
  }
 ],
 "metadata": {
  "kernelspec": {
   "display_name": "Python 3",
   "language": "python",
   "name": "python3"
  },
  "language_info": {
   "codemirror_mode": {
    "name": "ipython",
    "version": 3
   },
   "file_extension": ".py",
   "mimetype": "text/x-python",
   "name": "python",
   "nbconvert_exporter": "python",
   "pygments_lexer": "ipython3",
   "version": "3.10.12"
  }
 },
 "nbformat": 4,
 "nbformat_minor": 2
}
