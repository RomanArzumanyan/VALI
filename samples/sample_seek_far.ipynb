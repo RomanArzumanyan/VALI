{
 "cells": [
  {
   "cell_type": "code",
   "execution_count": 1,
   "metadata": {},
   "outputs": [],
   "source": [
    "class StopExecution(Exception):\n",
    "    def _render_traceback_(self):\n",
    "        return []"
   ]
  },
  {
   "cell_type": "code",
   "execution_count": 2,
   "metadata": {},
   "outputs": [],
   "source": [
    "# Starting from Python 3.8 DLL search policy has changed.\n",
    "# We need to add path to CUDA DLLs explicitly.\n",
    "import os\n",
    "\n",
    "if os.name == \"nt\":\n",
    "    # Add CUDA_PATH env variable\n",
    "    cuda_path = os.environ[\"CUDA_PATH\"]\n",
    "    if cuda_path:\n",
    "        os.add_dll_directory(os.path.join(cuda_path, \"bin\"))\n",
    "    else:\n",
    "        raise StopExecution"
   ]
  },
  {
   "cell_type": "code",
   "execution_count": 3,
   "metadata": {},
   "outputs": [],
   "source": [
    "from PIL import Image\n",
    "from IPython.display import display\n",
    "from io import BytesIO\n",
    "\n",
    "import python_vali as vali\n",
    "import numpy as np\n",
    "\n",
    "from ipywidgets import interact\n",
    "import ipywidgets as widgets"
   ]
  },
  {
   "cell_type": "code",
   "execution_count": 4,
   "metadata": {},
   "outputs": [],
   "source": [
    "## generate test video. not secured as it uses os.system\n",
    "## lines in ffmpegcmd may be commented out using '#' char\n",
    "import tempfile\n",
    "ffmpegcmd='''ffmpeg -f lavfi \n",
    "-i testsrc=duration=300:size=640x480:rate=30 \n",
    "-filter_complex \"drawtext=fontsize=42: text='%{pts \\:flt}  - %{frame_num}': x=100 : y=50 : box=1\" \n",
    "-profile:v baseline \n",
    "-pix_fmt yuv420p \n",
    "-g 120 -keyint_min 120 \n",
    "-y\n",
    "'''\n",
    "ffmpegcmd=' '.join([s for s in ffmpegcmd.split('\\n') if not s.startswith(\"#\")])\n",
    "tmpfile=tempfile.gettempdir()+\"/output.mp4\"\n",
    "if not os.path.isfile(tmpfile):\n",
    "    os.system(ffmpegcmd+\" \"+tempfile.gettempdir()+\"/output.mp4\")"
   ]
  },
  {
   "cell_type": "code",
   "execution_count": 5,
   "metadata": {},
   "outputs": [],
   "source": [
    "url = \"/tmp/output.mp4\""
   ]
  },
  {
   "cell_type": "code",
   "execution_count": 6,
   "metadata": {},
   "outputs": [],
   "source": [
    "# GPU-accelerated decoder\n",
    "pyDec = vali.PyDecoder(\n",
    "    url,\n",
    "    {},\n",
    "    gpu_id=0)\n",
    "\n",
    "# GPU-accelerated converter\n",
    "pyCvt = vali.PySurfaceConverter(\n",
    "    pyDec.Format,\n",
    "    vali.PixelFormat.RGB,\n",
    "    gpu_id=0)\n",
    "\n",
    "# GPU-accelerated JPEG encoder.\n",
    "# It's faster to encode Surface on GPU and show JPEG in widget.\n",
    "pyJpeg = vali.PyNvJpegEncoder(gpu_id=0)\n",
    "pyJpegEncCtx = pyJpeg.Context(\n",
    "    compression=100,\n",
    "    pixel_format=vali.PixelFormat.RGB)"
   ]
  },
  {
   "cell_type": "code",
   "execution_count": 16,
   "metadata": {},
   "outputs": [],
   "source": [
    "#@interact(seek_frame=widgets.IntSlider(\n",
    "#    min=0, max=pyDec.NumFrames - 1, step=1, value=0))\n",
    "def decode_show_video_frame(seek_frame: int, keyframe: bool) -> None:\n",
    "    # Raw decoded Surface\n",
    "    surf_src = vali.Surface.Make(\n",
    "        format=pyDec.Format,\n",
    "        width=pyDec.Width,\n",
    "        height=pyDec.Height,\n",
    "        gpu_id=0)\n",
    "\n",
    "    # Raw Surface, converted to RGB\n",
    "    surf_dst = vali.Surface.Make(\n",
    "        format=vali.PixelFormat.RGB,\n",
    "        width=pyDec.Width,\n",
    "        height=pyDec.Height,\n",
    "        gpu_id=0)\n",
    "\n",
    "    seek_ctx = vali.SeekContext(seek_frame,\n",
    "                                mode=vali.SeekMode.EXACT_FRAME if keyframe else vali.SeekMode.PREV_KEY_FRAME)\n",
    "\n",
    "    # Decode single Surface\n",
    "    success, details = pyDec.DecodeSingleSurface(surf_src, seek_ctx)\n",
    "    if not success:\n",
    "        print(details)\n",
    "        raise StopExecution\n",
    "\n",
    "    # Convert tot RGB\n",
    "    success, details = pyCvt.Run(surf_src, surf_dst)\n",
    "    if not success:\n",
    "        print(details)\n",
    "        raise StopExecution\n",
    "\n",
    "    # Compress to JPEG\n",
    "    buffers, details = pyJpeg.Run(pyJpegEncCtx, [surf_dst])\n",
    "    if len(buffers) != 1:\n",
    "        print(details)\n",
    "        raise StopExecution\n",
    "\n",
    "    # Display in notebook.\n",
    "    # The same picture is shown twice for some reason.\n",
    "    jpeg_bytes = BytesIO(np.ndarray.tobytes(buffers[0]))\n",
    "    display(Image.open(jpeg_bytes), display_id=\"decoded_frame\")"
   ]
  },
  {
   "cell_type": "code",
   "execution_count": 17,
   "metadata": {},
   "outputs": [
    {
     "name": "stdout",
     "output_type": "stream",
     "text": [
      "Reported duration: 4.608 s (expected 300.00)\n",
      "Computed duration: 300.0 s (expected 300.00)\n",
      "Gop size: 12 (expected 120)\n",
      "NumFrame: 9000 (expected 9000)\n",
      "Framerate: 30.0 (expected 30.00)\n"
     ]
    }
   ],
   "source": [
    "## by the way, pyDec.Duration should be 300.00 if using the generated videos!\n",
    "## to be solved in another PR!\n",
    "print(f\"Reported duration: {pyDec.Duration} s (expected 300.00)\")\n",
    "print(f\"Computed duration: {pyDec.NumFrames/pyDec.Framerate} s (expected 300.00)\")\n",
    "print(f\"Gop size: {pyDec.GopSize} (expected 120)\")\n",
    "print(f\"NumFrame: {pyDec.NumFrames} (expected 9000)\")\n",
    "print(f\"Framerate: {pyDec.Framerate} (expected 30.00)\")"
   ]
  },
  {
   "cell_type": "code",
   "execution_count": 18,
   "metadata": {},
   "outputs": [
    {
     "data": {
      "application/vnd.jupyter.widget-view+json": {
       "model_id": "d33f5793cf654ab49ed51a05b8e475a7",
       "version_major": 2,
       "version_minor": 0
      },
      "text/plain": [
       "interactive(children=(FloatSlider(value=0.0, description='seek_frame', max=300.0), Output()), _dom_classes=('w…"
      ]
     },
     "metadata": {},
     "output_type": "display_data"
    },
    {
     "data": {
      "text/plain": [
       "<function __main__.decode_show_video_frame(seek_frame: int) -> None>"
      ]
     },
     "execution_count": 18,
     "metadata": {},
     "output_type": "execute_result"
    }
   ],
   "source": [
    "interact(decode_show_video_frame,\n",
    "         #seek_frame=widgets.IntSlider(min=0, max=pyDec.NumFrames - 1, step=1, value=0)\n",
    "         seek_frame=widgets.FloatSlider(min=0, max=pyDec.NumFrames/pyDec.Framerate, value=0)\n",
    "         keyframe=False)"
   ]
  },
  {
   "cell_type": "code",
   "execution_count": null,
   "metadata": {},
   "outputs": [],
   "source": []
  }
 ],
 "metadata": {
  "kernelspec": {
   "display_name": "Python 3",
   "language": "python",
   "name": "python3"
  },
  "language_info": {
   "codemirror_mode": {
    "name": "ipython",
    "version": 3
   },
   "file_extension": ".py",
   "mimetype": "text/x-python",
   "name": "python",
   "nbconvert_exporter": "python",
   "pygments_lexer": "ipython3",
   "version": "3.11.9"
  }
 },
 "nbformat": 4,
 "nbformat_minor": 2
}
