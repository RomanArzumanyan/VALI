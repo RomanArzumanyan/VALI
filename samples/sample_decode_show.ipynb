{
 "cells": [
  {
   "cell_type": "code",
   "execution_count": null,
   "metadata": {},
   "outputs": [],
   "source": [
    "class StopExecution(Exception):\n",
    "    def _render_traceback_(self):\n",
    "        return []"
   ]
  },
  {
   "cell_type": "code",
   "execution_count": null,
   "metadata": {},
   "outputs": [],
   "source": [
    "# Starting from Python 3.8 DLL search policy has changed.\n",
    "# We need to add path to CUDA DLLs explicitly.\n",
    "import os\n",
    "\n",
    "if os.name == \"nt\":\n",
    "    # Add CUDA_PATH env variable\n",
    "    cuda_path = os.environ[\"CUDA_PATH\"]\n",
    "    if cuda_path:\n",
    "        os.add_dll_directory(os.path.join(cuda_path, \"bin\"))\n",
    "    else:\n",
    "        raise StopExecution"
   ]
  },
  {
   "cell_type": "code",
   "execution_count": null,
   "metadata": {},
   "outputs": [],
   "source": [
    "from PIL import Image\n",
    "from IPython.display import display\n",
    "\n",
    "import python_vali as vali\n",
    "import numpy as np"
   ]
  },
  {
   "cell_type": "code",
   "execution_count": null,
   "metadata": {},
   "outputs": [],
   "source": [
    "url = \"../tests/data/test.mp4\""
   ]
  },
  {
   "cell_type": "code",
   "execution_count": null,
   "metadata": {},
   "outputs": [],
   "source": [
    "# GPU-accelerated decoder\n",
    "pyDec = vali.PyDecoder(\n",
    "    url,\n",
    "    {},\n",
    "    gpu_id=0)\n",
    "\n",
    "# GPU-accelerated converter\n",
    "pyCvt = vali.PySurfaceConverter(\n",
    "    pyDec.Format,\n",
    "    vali.PixelFormat.RGB,\n",
    "    gpu_id=0)\n",
    "\n",
    "# GPU-accelerated Surface downloader\n",
    "pyDwn = vali.PySurfaceDownloader(gpu_id=0)\n",
    "\n",
    "# GPU-accelerated Surface rotator\n",
    "pyRot = vali.PySurfaceRotator(gpu_id=0)"
   ]
  },
  {
   "cell_type": "code",
   "execution_count": null,
   "metadata": {},
   "outputs": [],
   "source": [
    "def calc_rotation(\n",
    "        angle: int,\n",
    "        surf_src: vali.Surface):\n",
    "\n",
    "    shift_x = shift_y = 0\n",
    "    angle = (angle + 360) % 360\n",
    "\n",
    "    if angle == 0:\n",
    "        pass\n",
    "    elif angle == 90:\n",
    "        shift_y = surf_src.Width\n",
    "    elif angle == 180:\n",
    "        shift_x = surf_src.Width\n",
    "        shift_y = surf_src.Height\n",
    "    elif angle == 270:\n",
    "        shift_x = surf_src.Height\n",
    "\n",
    "    return (angle * 1.0, shift_x * 1.0, shift_y * 1.0)"
   ]
  },
  {
   "cell_type": "code",
   "execution_count": null,
   "metadata": {},
   "outputs": [],
   "source": [
    "# Raw decoded Surface\n",
    "surf_src = vali.Surface.Make(\n",
    "    format=pyDec.Format,\n",
    "    width=pyDec.Width,\n",
    "    height=pyDec.Height,\n",
    "    gpu_id=0)\n",
    "\n",
    "# Raw Surface, converted to RGB\n",
    "surf_dst = vali.Surface.Make(\n",
    "    format=vali.PixelFormat.RGB,\n",
    "    width=pyDec.Width,\n",
    "    height=pyDec.Height,\n",
    "    gpu_id=0)\n",
    "\n",
    "# Rotated Surface\n",
    "surf_rot = vali.Surface.Make(\n",
    "    format=vali.PixelFormat.RGB,\n",
    "    width=surf_dst.Height,\n",
    "    height=surf_dst.Width,\n",
    "    gpu_id=0)\n",
    "\n",
    "# Numpy array which contains decoded RGB Surface\n",
    "frame = np.ndarray(\n",
    "    dtype=np.uint8,\n",
    "    shape=(surf_rot.Height, surf_rot.Width, 3))\n",
    "\n",
    "for _ in range(0, 2):\n",
    "    # Decode single Surface\n",
    "    success, details = pyDec.DecodeSingleSurface(surf_src)\n",
    "    if not success:\n",
    "        print(details)\n",
    "        raise StopExecution\n",
    "\n",
    "    # Convert to RGB\n",
    "    success, details = pyCvt.Run(surf_src, surf_dst)\n",
    "    if not success:\n",
    "        print(details)\n",
    "        raise StopExecution\n",
    "      \n",
    "    # Rotate\n",
    "    success, details = pyRot.Run(\n",
    "        angle=270.0, \n",
    "        shift_x=0.0,\n",
    "        shift_y=0.0,\n",
    "        src=surf_dst, \n",
    "        dst=surf_rot)\n",
    "    if not success:\n",
    "        print(details)\n",
    "        raise StopExecution\n",
    "\n",
    "    # Copy pixels to numpy ndarray\n",
    "    success, details = pyDwn.Run(surf_rot, frame)\n",
    "    if not success:\n",
    "        print(details)\n",
    "        raise StopExecution\n",
    "\n",
    "    # Display in notebook\n",
    "    display(Image.fromarray(frame), display_id=\"decoded_frame\")"
   ]
  }
 ],
 "metadata": {
  "kernelspec": {
   "display_name": "Python 3",
   "language": "python",
   "name": "python3"
  },
  "language_info": {
   "codemirror_mode": {
    "name": "ipython",
    "version": 3
   },
   "file_extension": ".py",
   "mimetype": "text/x-python",
   "name": "python",
   "nbconvert_exporter": "python",
   "pygments_lexer": "ipython3",
   "version": "3.10.12"
  }
 },
 "nbformat": 4,
 "nbformat_minor": 2
}
