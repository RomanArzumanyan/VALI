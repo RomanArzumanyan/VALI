{
 "cells": [
  {
   "cell_type": "code",
   "execution_count": 1,
   "metadata": {},
   "outputs": [],
   "source": [
    "from PIL import Image\n",
    "from IPython.display import display\n",
    "\n",
    "import PyNvCodec as nvc\n",
    "import numpy as np"
   ]
  },
  {
   "cell_type": "code",
   "execution_count": 2,
   "metadata": {},
   "outputs": [],
   "source": [
    "url = \"../tests/data/test.mp4\""
   ]
  },
  {
   "cell_type": "code",
   "execution_count": 3,
   "metadata": {},
   "outputs": [],
   "source": [
    "class StopExecution(Exception):\n",
    "    def _render_traceback_(self):\n",
    "        return []"
   ]
  },
  {
   "cell_type": "code",
   "execution_count": null,
   "metadata": {},
   "outputs": [],
   "source": [
    "# GPU-accelerated decoder\n",
    "pyDec = nvc.PyDecoder(\n",
    "    url,\n",
    "    {},\n",
    "    gpu_id=0)\n",
    "\n",
    "# GPU-accelerated converter\n",
    "pyCvt = nvc.PySurfaceConverter(\n",
    "    pyDec.Format(),\n",
    "    nvc.PixelFormat.RGB,\n",
    "    gpu_id=0)\n",
    "\n",
    "# GPU-accelerated Surface downloader\n",
    "pyDwn = nvc.PySurfaceDownloader(gpu_id=0)"
   ]
  },
  {
   "cell_type": "code",
   "execution_count": null,
   "metadata": {},
   "outputs": [],
   "source": [
    "# Raw decoded Surface\n",
    "surf_src = nvc.Surface.Make(\n",
    "    format=pyDec.Format(),\n",
    "    width=pyDec.Width(),\n",
    "    height=pyDec.Height(),\n",
    "    gpu_id=0)\n",
    "\n",
    "# Raw Surface, converted to RGB\n",
    "surf_dst = nvc.Surface.Make(\n",
    "    format=nvc.PixelFormat.RGB,\n",
    "    width=pyDec.Width(),\n",
    "    height=pyDec.Height(),\n",
    "    gpu_id=0)\n",
    "\n",
    "# Numpy array which contains decoded RGB Surface\n",
    "frame = np.ndarray(\n",
    "    dtype=np.uint8,\n",
    "    shape=surf_dst.HostSize())\n",
    "\n",
    "# Packet data\n",
    "pkt_data = nvc.PacketData()\n",
    "\n",
    "while True:\n",
    "    # Decode single Surface\n",
    "    success, details = pyDec.DecodeSingleSurface(surf_src, pkt_data)\n",
    "    if not success:\n",
    "        print(details)\n",
    "        raise StopExecution\n",
    "\n",
    "    # Convert tot RGB\n",
    "    success, details = pyCvt.Run(surf_src, surf_dst)\n",
    "    if not success:\n",
    "        print(details)\n",
    "        raise StopExecution\n",
    "\n",
    "    # Copy pixels to numpy ndarray\n",
    "    if not pyDwn.Run(surf_dst, frame):\n",
    "        print(\"Failed to download surface\")\n",
    "        raise StopExecution\n",
    "\n",
    "    # Reshape to proper dimensions.\n",
    "    # Some video formats like NV12 require to reshape to 'raw' dimensions.\n",
    "    # Others like RGB24 require to reshape to 'final' dimensions. Hence this\n",
    "    # feature isn't yet supported by VALI out of the box. Have to do that by\n",
    "    # hand. Sic !\n",
    "    res_frame = np.reshape(\n",
    "        frame,\n",
    "        (pyDec.Height(), pyDec.Width(), 3))\n",
    "\n",
    "    # Display in notebook\n",
    "    display(Image.fromarray(res_frame))\n",
    "\n",
    "    # Output packet data\n",
    "    print(pkt_data)"
   ]
  }
 ],
 "metadata": {
  "kernelspec": {
   "display_name": "Python 3",
   "language": "python",
   "name": "python3"
  },
  "language_info": {
   "codemirror_mode": {
    "name": "ipython",
    "version": 3
   },
   "file_extension": ".py",
   "mimetype": "text/x-python",
   "name": "python",
   "nbconvert_exporter": "python",
   "pygments_lexer": "ipython3",
   "version": "3.10.12"
  }
 },
 "nbformat": 4,
 "nbformat_minor": 2
}
